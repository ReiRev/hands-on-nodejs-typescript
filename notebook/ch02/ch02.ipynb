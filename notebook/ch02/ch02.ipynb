{
 "cells": [
  {
   "cell_type": "code",
   "execution_count": 5,
   "metadata": {},
   "outputs": [],
   "source": [
    "import fs from 'fs';"
   ]
  },
  {
   "cell_type": "markdown",
   "metadata": {},
   "source": [
    "## 2-2 コールバック"
   ]
  },
  {
   "cell_type": "markdown",
   "metadata": {},
   "source": [
    "### 2.2.1　コールバックを利用した非同期APIを実行する\n",
    "\n",
    "先に`console.log()`の方が実行され、setTimeoutが非同期で実行されていることが確認できる。"
   ]
  },
  {
   "cell_type": "code",
   "execution_count": 6,
   "metadata": {},
   "outputs": [
    {
     "name": "stdout",
     "output_type": "stream",
     "text": [
      "execute setTimeout()\n"
     ]
    },
    {
     "name": "stdout",
     "output_type": "stream",
     "text": [
      "1s passed\n"
     ]
    }
   ],
   "source": [
    "setTimeout(\n",
    "    () => {\n",
    "        console.log('1s passed')\n",
    "    },\n",
    "    1000\n",
    ")\n",
    "console.log('execute setTimeout()')"
   ]
  },
  {
   "cell_type": "markdown",
   "metadata": {},
   "source": [
    "同様にして、`fs.readdir()`も非同期で実行されることがわかる。\n",
    "\n",
    "ソースを見つけられなかったが、非同期処理では以下が満たされるように関数が設計されているらしい。\n",
    "- コールバックが最後に引数\n",
    "- コールバックの最初の引数がerr, それ以降が処理の結果"
   ]
  },
  {
   "cell_type": "code",
   "execution_count": null,
   "metadata": {},
   "outputs": [
    {
     "name": "stdout",
     "output_type": "stream",
     "text": [
      "execute fs.readdir()\n"
     ]
    },
    {
     "name": "stdout",
     "output_type": "stream",
     "text": [
      "[ 'ch02.ipynb' ]\n"
     ]
    }
   ],
   "source": [
    "fs.readdir(\n",
    "    '.',\n",
    "    (err, files) => {\n",
    "        if (err) {\n",
    "            console.log(err)\n",
    "        } else {\n",
    "            console.log(files)\n",
    "        }\n",
    "    }\n",
    ")\n",
    "console.log('execute fs.readdir()')"
   ]
  },
  {
   "cell_type": "code",
   "execution_count": 8,
   "metadata": {},
   "outputs": [
    {
     "name": "stdout",
     "output_type": "stream",
     "text": [
      "execute fs.readdir()\n",
      "[Error: ENOENT: no such file or directory, scandir 'not-exist-directory'] {\n",
      "  errno: -2,\n",
      "  code: 'ENOENT',\n",
      "  syscall: 'scandir',\n",
      "  path: 'not-exist-directory'\n",
      "}\n",
      "[Error: ENOENT: no such file or directory, scandir 'not-exist-directory'] {\n",
      "  errno: -2,\n",
      "  code: 'ENOENT',\n",
      "  syscall: 'scandir',\n",
      "  path: 'not-exist-directory'\n",
      "}\n"
     ]
    }
   ],
   "source": [
    "fs.readdir(\n",
    "    'not-exist-directory',\n",
    "    (err, files) => {\n",
    "        if (err) {\n",
    "            console.log(err)\n",
    "        } else {\n",
    "            console.log(files)\n",
    "        }\n",
    "    }\n",
    ")\n",
    "console.log('execute fs.readdir()')"
   ]
  },
  {
   "cell_type": "markdown",
   "metadata": {},
   "source": [
    "### 2.2.2 エラーハンドリング\n",
    "\n",
    "非同期関数に渡されるcallbackは、エラーがない時にnullを、あるときはエラーを受け取るようにする。"
   ]
  },
  {
   "cell_type": "code",
   "execution_count": 9,
   "metadata": {},
   "outputs": [],
   "source": [
    "const parseJsonAsync = (json: string, callback: (err: Error | null, result: any) => void) => {\n",
    "    setTimeout(\n",
    "        () => {\n",
    "            try {\n",
    "                callback(null, JSON.parse(json))\n",
    "            } catch (err) {\n",
    "                callback(err, null)\n",
    "            }\n",
    "        },\n",
    "        1000\n",
    "    )\n",
    "}"
   ]
  },
  {
   "cell_type": "code",
   "execution_count": 10,
   "metadata": {},
   "outputs": [
    {
     "name": "stdout",
     "output_type": "stream",
     "text": [
      "SyntaxError: Unexpected token i in JSON at position 0\n",
      "    at JSON.parse (<anonymous>)\n",
      "    at Timeout._onTimeout (evalmachine.<anonymous>:6:33)\n",
      "    at listOnTimeout (node:internal/timers:564:17)\n",
      "    at process.processTimers (node:internal/timers:507:7)\n"
     ]
    }
   ],
   "source": [
    "parseJsonAsync('invalid json', (err, result) => {\n",
    "    if (err) {\n",
    "        console.log(err)\n",
    "    } else {\n",
    "        console.log(result)\n",
    "    }\n",
    "})"
   ]
  },
  {
   "cell_type": "markdown",
   "metadata": {},
   "source": [
    "### 2.2.3 混ぜるな危険 同期と非同期\n",
    "\n",
    "非同期な関数は必ず非同期にし、同期的に処理が行われるようにはしない。"
   ]
  },
  {
   "cell_type": "code",
   "execution_count": 11,
   "metadata": {},
   "outputs": [],
   "source": [
    "const cache = {}\n",
    "const parseJsonAsyncWithCache = async (json: string, callback: (err: Error | null, result: any) => void) => {\n",
    "    const cached = cache[json]\n",
    "    if (cached) {\n",
    "        setTimeout(() => callback(cached.err, cached.result), 0)\n",
    "        return\n",
    "    }\n",
    "    parseJsonAsync(json, (err, result) => {\n",
    "        cache[json] = { err, result }\n",
    "        callback(err, result)\n",
    "    })\n",
    "}"
   ]
  },
  {
   "cell_type": "markdown",
   "metadata": {},
   "source": [
    "## 2.3 Promise"
   ]
  },
  {
   "cell_type": "markdown",
   "metadata": {},
   "source": [
    "### 2.5.2 async/await\n",
    "\n",
    "async/awaitを使うと、コードがスッキリする。thenなどを使う方法もあるが、async/awaitを使うのがベスト？\n",
    "\n",
    "awaitをつけておくと、返り値に依存するコードは、非同期処理が終わってから呼ばれることが以下のコードからわかる。したがって、依存関係について難しく考えなくても直感的にコーディングが可能。"
   ]
  },
  {
   "cell_type": "code",
   "execution_count": 18,
   "metadata": {},
   "outputs": [],
   "source": [
    "const parseJsonAsync = (json: string) => new Promise((resolve, reject) => {\n",
    "    console.log(\"parseJsonAsync() called\")\n",
    "    setTimeout(\n",
    "        () => {\n",
    "            try {\n",
    "                console.log(\"parseJsonAsync() try block\")\n",
    "                resolve(JSON.parse(json))\n",
    "                console.log(\"parseJsonAsync() resolve() called\")\n",
    "            } catch (err) {\n",
    "                console.log(\"parseJsonAsync() catch block\")\n",
    "                reject(err)\n",
    "                console.log(\"parseJsonAsync() reject() called\")\n",
    "            }\n",
    "        },\n",
    "        1000\n",
    "    )\n",
    "})"
   ]
  },
  {
   "cell_type": "code",
   "execution_count": 22,
   "metadata": {},
   "outputs": [
    {
     "name": "stdout",
     "output_type": "stream",
     "text": [
      "try block\n",
      "parseJsonAsync() called\n",
      "parseJsonAsync() called\n",
      "parseJsonAsync() try block\n",
      "parseJsonAsync() resolve() called\n",
      "await parseJsonAsync() called\n",
      "{ foo: 1 }\n"
     ]
    }
   ],
   "source": [
    "try {\n",
    "    console.log(\"try block\")\n",
    "    const result = await parseJsonAsync('{\"foo\":1}')\n",
    "    console.log(\"await parseJsonAsync() called\")\n",
    "    console.log(result)\n",
    "} catch (err) {\n",
    "    console.log(err)\n",
    "}"
   ]
  },
  {
   "cell_type": "code",
   "execution_count": 21,
   "metadata": {},
   "outputs": [
    {
     "name": "stdout",
     "output_type": "stream",
     "text": [
      "parseJsonAsync() called\n"
     ]
    },
    {
     "name": "stdout",
     "output_type": "stream",
     "text": [
      "parseJsonAsync() try block\n",
      "parseJsonAsync() catch block\n",
      "parseJsonAsync() reject() called\n",
      "err block\n",
      "SyntaxError: Unexpected token i in JSON at position 0\n",
      "    at JSON.parse (<anonymous>)\n",
      "    at Timeout._onTimeout (evalmachine.<anonymous>:8:26)\n",
      "    at listOnTimeout (node:internal/timers:564:17)\n",
      "    at process.processTimers (node:internal/timers:507:7)\n",
      "parseJsonAsync() catch block\n",
      "parseJsonAsync() reject() called\n",
      "err block\n",
      "SyntaxError: Unexpected token i in JSON at position 0\n",
      "    at JSON.parse (<anonymous>)\n",
      "    at Timeout._onTimeout (evalmachine.<anonymous>:8:26)\n",
      "    at listOnTimeout (node:internal/timers:564:17)\n",
      "    at process.processTimers (node:internal/timers:507:7)\n"
     ]
    }
   ],
   "source": [
    "try {\n",
    "    const result = await parseJsonAsync('invalid json')\n",
    "} catch (err) {\n",
    "    console.log(\"err block\")\n",
    "    console.log(err)\n",
    "}"
   ]
  },
  {
   "cell_type": "markdown",
   "metadata": {},
   "source": [
    "### 2.5.3 async/await構文と非同期処理の並行実行"
   ]
  },
  {
   "cell_type": "code",
   "execution_count": 23,
   "metadata": {},
   "outputs": [],
   "source": [
    "const hogeAsync = async () => new Promise((resolve, reject) => {\n",
    "    setTimeout(() => resolve('hoge'),\n",
    "        1000\n",
    "    )\n",
    "})\n",
    "\n",
    "const fugaAsync = async () => new Promise((resolve, reject) => {\n",
    "    setTimeout(() => resolve('fuga'),\n",
    "        1000\n",
    "    )\n",
    "})\n",
    "\n",
    "const piyoAsync = async () => new Promise((resolve, reject) => {\n",
    "    setTimeout(() => resolve('piyo'),\n",
    "        1000\n",
    "    )\n",
    "})"
   ]
  },
  {
   "cell_type": "markdown",
   "metadata": {},
   "source": [
    "下記の場合、1秒後にhoge、2秒後にfugaが変数として渡される。"
   ]
  },
  {
   "cell_type": "code",
   "execution_count": 25,
   "metadata": {},
   "outputs": [
    {
     "name": "stdout",
     "output_type": "stream",
     "text": [
      "hoge\n",
      "fuga\n"
     ]
    }
   ],
   "source": [
    "const hoge = await hogeAsync()\n",
    "console.log(hoge)\n",
    "const fuga = await fugaAsync()\n",
    "console.log(fuga)"
   ]
  },
  {
   "cell_type": "markdown",
   "metadata": {},
   "source": [
    "以下のように呼ぶと、1秒後に全ての関数の結果が得られ、全ての関数が並行実行されていることが確認できる。これは重要そう。"
   ]
  },
  {
   "cell_type": "code",
   "execution_count": 29,
   "metadata": {},
   "outputs": [
    {
     "name": "stdout",
     "output_type": "stream",
     "text": [
      "[ 'hoge', 'fuga', 'piyo' ]\n"
     ]
    }
   ],
   "source": [
    "const all = await Promise.all([hogeAsync(), fugaAsync(), piyoAsync()])\n",
    "console.log(all)"
   ]
  },
  {
   "cell_type": "markdown",
   "metadata": {},
   "source": [
    "### 2.5.4 トップレベルawait"
   ]
  },
  {
   "cell_type": "code",
   "execution_count": 28,
   "metadata": {},
   "outputs": [
    {
     "name": "stdout",
     "output_type": "stream",
     "text": [
      "[\n",
      "  [AsyncFunction: hogeAsync],\n",
      "  [AsyncFunction: fugaAsync],\n",
      "  [AsyncFunction: piyoAsync]\n",
      "]\n"
     ]
    }
   ],
   "source": [
    "console.log(all)"
   ]
  },
  {
   "cell_type": "code",
   "execution_count": null,
   "metadata": {},
   "outputs": [],
   "source": []
  }
 ],
 "metadata": {
  "kernelspec": {
   "display_name": "TypeScript",
   "language": "typescript",
   "name": "tslab"
  },
  "language_info": {
   "codemirror_mode": {
    "mode": "typescript",
    "name": "javascript",
    "typescript": true
   },
   "file_extension": ".ts",
   "mimetype": "text/typescript",
   "name": "typescript",
   "version": "3.7.2"
  }
 },
 "nbformat": 4,
 "nbformat_minor": 2
}
